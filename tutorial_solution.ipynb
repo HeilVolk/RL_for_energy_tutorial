{
 "cells": [
  {
   "cell_type": "markdown",
   "metadata": {},
   "source": [
    "# Reinforcement Learning in action"
   ]
  },
  {
   "cell_type": "markdown",
   "metadata": {},
   "source": [
    "## 1. Introduction"
   ]
  },
  {
   "cell_type": "markdown",
   "metadata": {},
   "source": [
    "Let's assume we need to manage the energy flow of a building powered by solar panel system with a battery storage as shown in Figure 1. When solar PV generation is not sufficient to cater to the demand, the main grid supplies the mismatch at a varying (with time) price. Further the cost of $CO_2$ produced at a specific time by the grid is also considered for the cost.\n",
    "\n",
    "<img src=\"files/data/building.png\" width=550>\n",
    "<p style=\"text-align: center; font-weight:bold;\">Figure 1: Set up of building energy management system</p>\n",
    "\n",
    "Our task in this tutorail is to charge or discharge the battery accordingly so that the overall cost is minimized.\n",
    "\n",
    "This tutorial is based on the simulation engine [Pymgrid](https://github.com/Total-RD/pymgrid) by Total-RD"
   ]
  },
  {
   "cell_type": "markdown",
   "metadata": {},
   "source": [
    "## 2. Install and imports"
   ]
  },
  {
   "cell_type": "code",
   "execution_count": 1,
   "metadata": {},
   "outputs": [],
   "source": [
    "# first we will download the (custom) pymgrid library\n",
    "# !pip install git+https://github.com/Wenuka/pymgrid/"
   ]
  },
  {
   "cell_type": "code",
   "execution_count": 2,
   "metadata": {},
   "outputs": [],
   "source": [
    "import sys\n",
    "from pymgrid import MicrogridGenerator as mg\n",
    "import matplotlib.pyplot as plt\n",
    "import numpy as np\n",
    "import os\n",
    "import time\n",
    "\n",
    "from helper_functions import *"
   ]
  },
  {
   "cell_type": "markdown",
   "metadata": {},
   "source": [
    "## 3. Generate Microgrids (a.k.a Building+PV+Battery+grid System)\n",
    "\n",
    "In this specific case, the microgrid is defined as the building (energy demand) Solar panel (PV), inhouse battery pack which is also connected to the grid"
   ]
  },
  {
   "cell_type": "code",
   "execution_count": 3,
   "metadata": {
    "scrolled": true
   },
   "outputs": [],
   "source": [
    "# First we create the environment and the microgrid\n",
    "env = mg.MicrogridGenerator(nb_microgrid=1, path=\"./data/pymgrid_data\")  # we can use a custom file to simulate the load and the PV\n",
    "env.generate_microgrid(verbose=False)\n",
    "mg0 = env.microgrids[0]"
   ]
  },
  {
   "cell_type": "code",
   "execution_count": 4,
   "metadata": {
    "scrolled": true
   },
   "outputs": [
    {
     "data": {
      "text/plain": [
       "{'PV': 1, 'battery': 1, 'genset': 0, 'grid': 1}"
      ]
     },
     "execution_count": 4,
     "metadata": {},
     "output_type": "execute_result"
    }
   ],
   "source": [
    "mg0.architecture  # architecture of the microgrid \n",
    "# mg0.parameters  # parameters of the microgrid "
   ]
  },
  {
   "cell_type": "markdown",
   "metadata": {},
   "source": [
    "NOTE: In this tutorial, we do not consider a generator (genset). Possible ways to integrate generation will be taken into the discussion at the end of the tutorial"
   ]
  },
  {
   "cell_type": "markdown",
   "metadata": {},
   "source": [
    "## 4. Defining the Reward"
   ]
  },
  {
   "cell_type": "markdown",
   "metadata": {},
   "source": [
    "RL always works with reward. Therefore, we need to define the reward at the begining. Then we can write algorithms so that our agent can learn to maximize the reward.\n",
    "\n",
    "In this, we are trying to reduce (Minimize) the overall cost of the building. Therefore we can easily define the reward as the **minus cost**. So agent maximizing the reward means minimizing the cost.\n",
    "\n",
    "The total cost consists of the cost of eleectricity and the penalty for $CO_2$ produced by the grid."
   ]
  },
  {
   "cell_type": "markdown",
   "metadata": {},
   "source": [
    "## 5. Q table"
   ]
  },
  {
   "cell_type": "markdown",
   "metadata": {},
   "source": [
    "The state of the system explains the present conditions of the system. \n",
    " \n",
    "As we already learned, in Q learning, we try to guess the expected discounted future reward for each **State** for each **action**. \n",
    "\n",
    "Therefore, we maintain a Q-table to store these values. By doing this, we maintain rows for each State and columns for each Action (see Figure 2). So each value inside the Q-table is the Q-value (expected discounted future reward) for a given state and for a given action\n",
    "\n",
    "<img src=\"files/data/qtable.png\" width=550>\n",
    "<p style=\"text-align: center; font-weight:bold;\">Figure 2: Q table consisting of actions and states</p>"
   ]
  },
  {
   "cell_type": "markdown",
   "metadata": {},
   "source": [
    "## 6. Defining the State "
   ]
  },
  {
   "cell_type": "markdown",
   "metadata": {},
   "source": [
    "Before starting the learning process, we need to define the states and the actions. \n",
    "\n",
    "Let us define the states first. To help the process, we will first plot a few graphs for the next 24 time steps (hours).\n",
    "\n",
    "(extra note: forecast function forecast next 24 steps by default you can change it to N steps by **mg0.set_horizon(N)** )"
   ]
  },
  {
   "cell_type": "code",
   "execution_count": 5,
   "metadata": {},
   "outputs": [
    {
     "data": {
      "text/plain": [
       "<matplotlib.legend.Legend at 0x7f7419761dc0>"
      ]
     },
     "execution_count": 5,
     "metadata": {},
     "output_type": "execute_result"
    },
    {
     "data": {
      "image/png": "[encoded data removed]",
      "text/plain": [
       "<Figure size 432x288 with 1 Axes>"
      ]
     },
     "metadata": {
      "needs_background": "light"
     },
     "output_type": "display_data"
    }
   ],
   "source": [
    "plt.plot(mg0.forecast_pv(), label=\"PV\")\n",
    "plt.plot(mg0.forecast_load(), label=\"load\")\n",
    "plt.legend()\n",
    "# as we can see PV and Load is varying with the  time"
   ]
  },
  {
   "cell_type": "code",
   "execution_count": 6,
   "metadata": {},
   "outputs": [
    {
     "data": {
      "text/plain": [
       "[<matplotlib.lines.Line2D at 0x7f7419651c10>]"
      ]
     },
     "execution_count": 6,
     "metadata": {},
     "output_type": "execute_result"
    },
    {
     "data": {
      "image/png": "[encoded data removed]",
      "text/plain": [
       "<Figure size 432x288 with 1 Axes>"
      ]
     },
     "metadata": {
      "needs_background": "light"
     },
     "output_type": "display_data"
    }
   ],
   "source": [
    "plt.plot(mg0.forecast_grid_status())  \n",
    "# Here we observe that the microgrid is always connected to the utility grid (no change)"
   ]
  },
  {
   "cell_type": "markdown",
   "metadata": {},
   "source": [
    "As we know, the environment in this is defined by four factors (Figure 3), namely,\n",
    "* Load (kW)\n",
    "* PV (kW)\n",
    "* Battery (charge percentage)\n",
    "* Grid connectivity (Grid price is not provided by the simulation environment)\n",
    "\n",
    "<img src=\"files/data/environment.png\" width=500>\n",
    "<p style=\"text-align: center; font-weight:bold;\">Figure 3: Energy interactions to state definition</p>\n",
    "\n",
    "So, we can simply describe state by **(load, PV, Battery Percentage, Grid connectivity)** where Battery Percentage is (battery charge level \\state of charge of battery)\n",
    "\n",
    "1. Do we need all these variables to define the state? \n",
    "\n",
    "2. What variables/factors can you eliminate? \n",
    "\n",
    "3. Given our problem statement, what variables can you combine?\n",
    "\n",
    "**Discuss!**"
   ]
  },
  {
   "cell_type": "markdown",
   "metadata": {},
   "source": [
    "Answer:\n",
    "* We can remove grid connectivity in here as it is always 1\n",
    "* We can combine Load and PV as it is always the Net_load (load-PV) that needed to be considered.\n",
    "\n",
    "Therefore the state can be defined as **(Net_load, battery %)**\n",
    "\n",
    "Extra Note: we can also define the state as (load, PV, battery %) and continue. Then the only problem will be the inefficient learning due to the (relatively) un-necessarily bigger state space."
   ]
  },
  {
   "cell_type": "code",
   "execution_count": 7,
   "metadata": {},
   "outputs": [
    {
     "data": {
      "text/plain": [
       "<matplotlib.legend.Legend at 0x7f7419662490>"
      ]
     },
     "execution_count": 7,
     "metadata": {},
     "output_type": "execute_result"
    },
    {
     "data": {
      "image/png": "[encoded data removed]",
      "text/plain": [
       "<Figure size 432x288 with 1 Axes>"
      ]
     },
     "metadata": {
      "needs_background": "light"
     },
     "output_type": "display_data"
    }
   ],
   "source": [
    "plt.plot(mg0.forecast_load()-mg0.forecast_pv(), label=\"Net load\")\n",
    "plt.legend()"
   ]
  },
  {
   "cell_type": "code",
   "execution_count": 8,
   "metadata": {},
   "outputs": [
    {
     "data": {
      "text/plain": [
       "'max: 5.32, min : -1.71 interval: 1'"
      ]
     },
     "execution_count": 8,
     "metadata": {},
     "output_type": "execute_result"
    }
   ],
   "source": [
    "mg0.set_horizon(24*365)\n",
    "overall_net_load = mg0.forecast_load()-mg0.forecast_pv()\n",
    "overal_min = min(overall_net_load)\n",
    "overal_max = max(overall_net_load)\n",
    "discretize_interval = 1\n",
    "net_load_params = (overal_min, overal_max, discretize_interval)\n",
    "mg0.set_horizon(24)\n",
    "f\"max: {overal_max:.2f}, min : {overal_min:.2f} interval: {discretize_interval}\""
   ]
  },
  {
   "cell_type": "markdown",
   "metadata": {},
   "source": [
    "Another problem we face here is how to create Q-table when the variables in the state definition are continuous. \n",
    "\n",
    "For this, we **discretize the variable**. For example in this tutorial, we round the kW to the nearest decimal and battery percentage to the nearest 0.1"
   ]
  },
  {
   "cell_type": "code",
   "execution_count": 9,
   "metadata": {},
   "outputs": [],
   "source": [
    "# For a given instences, you can see the environment and other values like this\n",
    "current_load = mg0.load\n",
    "current_pv = mg0.pv\n",
    "battery_capacity = mg0.battery.capacity\n",
    "battery_state_of_charge = mg0.battery.soc\n",
    "# current_cost = mg0.get_cost() ## can be used only after running atleast one step of the microgrid (eg. mg.run(action) )"
   ]
  },
  {
   "cell_type": "markdown",
   "metadata": {},
   "source": [
    "## 7. Designing the Actions"
   ]
  },
  {
   "cell_type": "markdown",
   "metadata": {},
   "source": [
    "Since we have defined the states, let's try to define the actions that our agent need to perform to maximize the reward. \n",
    "\n",
    "These are the four actions that we are suggesting\n",
    "* action 0: battery_charge\n",
    "* action 1: battery_discharge\n",
    "* action 2: grid_import\n",
    "* action 3: grid_export\n",
    "\n"
   ]
  },
  {
   "cell_type": "markdown",
   "metadata": {},
   "source": [
    "However, our simulation engine does not know what these actions are.\n",
    "\n",
    "For this, we have to map these actions to the simulation engines control signals"
   ]
  },
  {
   "cell_type": "code",
   "execution_count": 10,
   "metadata": {},
   "outputs": [],
   "source": [
    "def actions_agent(mg0, action):\n",
    "    pv = mg0.pv\n",
    "    load = mg0.load\n",
    "    net_load = load - pv\n",
    "    capa_to_charge = mg0.battery.capa_to_charge  # remaining capacity to charge of the battery\n",
    "    p_charge_max = mg0.battery.p_charge_max  # charge speed of the battery\n",
    "    p_charge = max(0,min(-net_load, capa_to_charge, p_charge_max))  # charge value for the time \n",
    "    \n",
    "    capa_to_discharge = mg0.battery.capa_to_discharge  # capacity of discharge\n",
    "    p_discharge_max = mg0.battery.p_discharge_max  # per hour discharge rate\n",
    "    p_discharge = max(0,min(net_load, capa_to_discharge, p_discharge_max))  # discharge value for the time \n",
    "          \n",
    "    if action == 0:       \n",
    "        control_dict = {'pv_consummed': min(pv,load),\n",
    "                        'battery_charge': p_charge,\n",
    "                        'battery_discharge': 0,\n",
    "                        'grid_import': 0,\n",
    "                        'grid_export':max(0,pv - min(pv,load) - p_charge)\n",
    "                       }            \n",
    "    elif action ==1:    \n",
    "        control_dict = {'pv_consummed': min(pv,load),\n",
    "                        'battery_charge': 0,\n",
    "                        'battery_discharge': p_discharge,\n",
    "                        'grid_import': max(0,load - min(pv,load) - p_discharge),\n",
    "                        'grid_export':0\n",
    "                       }\n",
    "    elif action ==2:\n",
    "        control_dict = {'pv_consummed': min(pv,load),\n",
    "                        'battery_charge': 0,\n",
    "                        'battery_discharge': 0,\n",
    "                        'grid_import': abs(net_load),\n",
    "                        'grid_export':0\n",
    "                       }\n",
    "    elif action == 3:\n",
    "        control_dict = {'pv_consummed': min(pv,load),\n",
    "                        'battery_charge': 0,\n",
    "                        'battery_discharge': 0,\n",
    "                        'grid_import': 0,\n",
    "                        'grid_export':abs(net_load)\n",
    "                       }\n",
    "    \n",
    "    return control_dict"
   ]
  },
  {
   "cell_type": "markdown",
   "metadata": {},
   "source": [
    "## 8. Initializing the Q table"
   ]
  },
  {
   "cell_type": "code",
   "execution_count": 11,
   "metadata": {},
   "outputs": [],
   "source": [
    "def init_qtable(mg0, nb_action, net_load_params):\n",
    "\n",
    "    state = []\n",
    "    Q = {}\n",
    "\n",
    "    for i in range(round(net_load_params[0]),round(net_load_params[1])+1, 1):  # last 1 in the range is the discretize interval\n",
    "        \n",
    "        for j in np.arange(round(mg0.battery.soc_min,1),round(mg0.battery.soc_max+0.1,1),0.1):\n",
    "            \n",
    "            j = round(j,1)\n",
    "            state.append((i,j)) \n",
    "    \n",
    "    for s in state:\n",
    "\n",
    "        Q[s] = {}\n",
    "\n",
    "        for a in range(nb_action):\n",
    "\n",
    "            Q[s][a] = 0 # Initialize Q(s,a) at zero (We normally initialize Q at a higher reward than usual so that all the options are getting explored)\n",
    "\n",
    "    return Q"
   ]
  },
  {
   "cell_type": "markdown",
   "metadata": {},
   "source": [
    "**Policy** is the way we select the action, given the Q-values. \n",
    "\n",
    "In this tutorial we have selected the famous **epsilon greedy policy**.\n",
    "\n",
    "To explain what this is, given a state, we act greedily (choose the action with the highest Q-value) 1-epsilon times while we randomly select an action epsilon of the time where the epsilon is a positive decreasing value less than 1. If interested, please take a look into the helper_functions.py where we have defined the policy.\n",
    "\n",
    "Since we act randomly epsilon times, our agent gets the chance to explore the environment. Since we decrease the epsilon with time, the agent takes less and less random actions and always tries to act greedily.\n",
    "\n",
    "Selecting epsilon is an important task and this is normally called the *Explore-Exploit dilemma.*"
   ]
  },
  {
   "cell_type": "markdown",
   "metadata": {},
   "source": [
    "## 9. Q learning"
   ]
  },
  {
   "cell_type": "markdown",
   "metadata": {},
   "source": [
    "To recap, here is the Q-learning algo (from Sutton and Barto's book)\n",
    "<img src=\"files/data/QlearningAlgo.png\">\n",
    "\n",
    "Now let's implement it for our application,"
   ]
  },
  {
   "cell_type": "code",
   "execution_count": 12,
   "metadata": {},
   "outputs": [],
   "source": [
    "def training_Q_Learning(mg, horizon, net_load_params, nb_episode = 100):\n",
    "    \n",
    "    nb_action = 4\n",
    "    Q = init_qtable(mg,nb_action, net_load_params)  # initialise Q-table\n",
    "    nb_state = len(Q)\n",
    "    alpha = 0.1\n",
    "    epsilon = 0.99\n",
    "    gamma = 0.99\n",
    "    \n",
    "    record_cost = []\n",
    "    t0 = time.time()\n",
    "    t = t0\n",
    "    print_training = \"Training Progressing\"\n",
    "    print_welcome(0)\n",
    "    for e in range(nb_episode+1):\n",
    "\n",
    "        # to print\n",
    "        value_print=\"\\r\"+ print_training +\"Episode \" + str(e) +\"/\" + str(nb_episode) \n",
    "        sys.stdout.write(value_print)\n",
    "        sys.stdout.flush()\n",
    "        \n",
    "        # learning start\n",
    "        episode_cost = 0\n",
    "        mg.reset()\n",
    "        \n",
    "        net_load = round(mg.load - mg.pv)\n",
    "        soc = round(mg.battery.soc,1)\n",
    "        s = (net_load, soc)\n",
    "        \n",
    "        for i in range (horizon):\n",
    "            a = max_dict(Q[s])[0]  # action with max val \n",
    "            a, is_random = espilon_decreasing_greedy(a, epsilon, nb_action)  # action after epsilon greedy policy\n",
    "            action = actions_agent(mg,a)  # returns control_dict for the action\n",
    "            \n",
    "            status = mg.run(action)\n",
    "            r = -mg.get_cost() \n",
    "            episode_cost += mg.get_cost()\n",
    "            net_load = round(mg.load - mg.pv)\n",
    "            soc = round(mg.battery.soc,1)\n",
    "            s_ = (net_load, soc)\n",
    "            \n",
    "            Q[s][a] = Q[s][a] + alpha * (r + gamma*max_dict(Q[s_])[1] - Q[s][a])\n",
    "            \n",
    "            s = s_\n",
    "       \n",
    "        epsilon = update_epsilon(epsilon)  # decrease epsilon\n",
    "        \n",
    "    return Q"
   ]
  },
  {
   "cell_type": "code",
   "execution_count": 13,
   "metadata": {},
   "outputs": [],
   "source": [
    "def testing_Q_Learning(mg, Q,horizon):\n",
    "    \n",
    "    mg.reset(testing=True)\n",
    "    net_load = round(mg.load - mg.pv)\n",
    "    soc = round(mg.battery.soc,1)\n",
    "    s = (net_load, soc)\n",
    "    a = max_dict(Q[s])[0]\n",
    "    total_cost = 0\n",
    "    print_welcome(1)\n",
    "    for i in range (horizon):\n",
    "\n",
    "        action_name = change_name_action(a)\n",
    "        action = actions_agent(mg, a)\n",
    "        status = mg.run(action)\n",
    "        cost = mg.get_cost()\n",
    "        total_cost += cost\n",
    "        print(i,\"-\",(int(net_load),soc),action_name, round(total_cost,1), \"€\")\n",
    "        net_load = round(mg.load - mg.pv)\n",
    "        soc = round(mg.battery.soc,1)\n",
    "        s_ = (net_load, soc)\n",
    "        a_ = max_dict(Q[s_])[0]\n",
    "\n",
    "        s, a = s_, a_"
   ]
  },
  {
   "cell_type": "code",
   "execution_count": 14,
   "metadata": {},
   "outputs": [],
   "source": [
    "mg0.train_test_split(train_size=0.8)"
   ]
  },
  {
   "cell_type": "code",
   "execution_count": 15,
   "metadata": {},
   "outputs": [
    {
     "name": "stdout",
     "output_type": "stream",
     "text": [
      "------------------------------------\n",
      "|        WELCOME TO PYMGRID        |\n",
      "------------------------------------\n",
      "Training ProgressingEpisode 100/100"
     ]
    }
   ],
   "source": [
    "Q1 = training_Q_Learning(mg0,48,net_load_params,nb_episode=100)"
   ]
  },
  {
   "cell_type": "code",
   "execution_count": 16,
   "metadata": {},
   "outputs": [
    {
     "name": "stdout",
     "output_type": "stream",
     "text": [
      "t -     STATE  -  ACTION - COST\n",
      "================================\n",
      "0 - (1, 0.2) discharge 0.3 €\n",
      "1 - (1, 0.2) discharge 0.6 €\n",
      "2 - (1, 0.2) discharge 0.9 €\n",
      "3 - (1, 0.2) discharge 1.3 €\n",
      "4 - (2, 0.2) discharge 1.8 €\n",
      "5 - (3, 0.2) discharge 2.6 €\n",
      "6 - (4, 0.2) discharge 3.5 €\n",
      "7 - (3, 0.2) discharge 4.2 €\n",
      "8 - (1, 0.2) discharge 4.7 €\n",
      "9 - (1, 0.2) discharge 5.1 €\n",
      "10 - (1, 0.2) discharge 5.4 €\n",
      "11 - (1, 0.2) discharge 5.8 €\n",
      "12 - (0, 0.2) charge 10.5 €\n",
      "13 - (1, 0.2) discharge 10.8 €\n",
      "14 - (1, 0.2) discharge 11.5 €\n",
      "15 - (2, 0.2) discharge 12.9 €\n",
      "16 - (3, 0.2) discharge 14.8 €\n",
      "17 - (4, 0.2) discharge 17.1 €\n",
      "18 - (3, 0.2) discharge 18.2 €\n",
      "19 - (3, 0.2) discharge 19.2 €\n",
      "20 - (3, 0.2) discharge 20.2 €\n",
      "21 - (3, 0.2) discharge 21.0 €\n",
      "22 - (3, 0.2) discharge 21.8 €\n",
      "23 - (2, 0.2) discharge 22.2 €\n",
      "24 - (1, 0.2) discharge 22.5 €\n",
      "25 - (1, 0.2) discharge 22.8 €\n",
      "26 - (1, 0.2) discharge 23.2 €\n",
      "27 - (1, 0.2) discharge 23.5 €\n",
      "28 - (2, 0.2) discharge 24.0 €\n",
      "29 - (3, 0.2) discharge 24.8 €\n",
      "30 - (4, 0.2) discharge 25.7 €\n",
      "31 - (3, 0.2) discharge 26.5 €\n",
      "32 - (2, 0.2) discharge 27.0 €\n",
      "33 - (2, 0.2) discharge 27.5 €\n",
      "34 - (1, 0.2) discharge 27.9 €\n",
      "35 - (1, 0.2) discharge 28.2 €\n",
      "36 - (0, 0.2) charge 31.3 €\n",
      "37 - (1, 0.2) discharge 31.8 €\n",
      "38 - (1, 0.2) discharge 32.4 €\n",
      "39 - (2, 0.2) discharge 33.9 €\n",
      "40 - (3, 0.2) discharge 35.7 €\n",
      "41 - (4, 0.2) discharge 38.0 €\n",
      "42 - (3, 0.2) discharge 39.1 €\n",
      "43 - (3, 0.2) discharge 40.1 €\n",
      "44 - (3, 0.2) discharge 41.1 €\n",
      "45 - (3, 0.2) discharge 41.9 €\n",
      "46 - (3, 0.2) discharge 42.7 €\n",
      "47 - (2, 0.2) discharge 43.2 €\n"
     ]
    }
   ],
   "source": [
    "testing_Q_Learning(mg0,Q1, 48)"
   ]
  },
  {
   "cell_type": "markdown",
   "metadata": {},
   "source": [
    "## 10. SARSA Algorithm"
   ]
  },
  {
   "cell_type": "markdown",
   "metadata": {},
   "source": [
    "To recap, here is the SARSA algo (from Sutton and Barto's book)\n",
    "<img src=\"files/data/SARSAalgo.png\">"
   ]
  },
  {
   "cell_type": "markdown",
   "metadata": {},
   "source": [
    "1. Why is SARSA called an on-policy learning and Q-learning is an off-policy learning?\n",
    "\n",
    "2. What changes to do in the Q-learning to make it SARSA?"
   ]
  },
  {
   "cell_type": "markdown",
   "metadata": {},
   "source": [
    "SARSA is an on-policy algorithm while Q-learning is an off-policy algorithm. Which means in SARSA the Q values are updated on the next chosen action (according to the policy) while in Q-learning we update the Q-values from the best possible action. \n",
    "\n",
    "So in the above training_Q_Learning function, we need to take the line\n",
    "``` a_, is_random = espilon_decreasing_greedy(a_, epsilon, nb_action) ``` just above the if else. (in between ```a_ = max_dict(Q[s_])[0]``` and ```if i == horizon-1:```). Because of this, the Q value update happens according to the policy.\n",
    "\n",
    "Also note that in both the scenarios, we choose the next action according to the policy.\n",
    "\n",
    "Another important thing to note here is since SARSA is an on-policy algorithm, we can not use a replay buffer for training purposes.\n",
    "\n",
    "Here is the difference on top of the above algo,\n",
    "<img src=\"files/data/algoDiff.png\">"
   ]
  },
  {
   "cell_type": "code",
   "execution_count": 17,
   "metadata": {},
   "outputs": [],
   "source": [
    "def training_SARSA(mg, horizon, net_load_params, nb_episode = 100):\n",
    "    \n",
    "    nb_action = 4\n",
    "    Q = init_qtable(mg,nb_action, net_load_params)  # initialise Q-table\n",
    "    nb_state = len(Q)\n",
    "    alpha = 0.1\n",
    "    epsilon = 0.99\n",
    "    gamma = 0.99\n",
    "    \n",
    "    record_cost = []\n",
    "    t0 = time.time()\n",
    "    t = t0\n",
    "    print_training = \"Training Progressing\"\n",
    "    print_welcome(0)\n",
    "    for e in range(nb_episode+1):\n",
    "\n",
    "        # to print\n",
    "        value_print=\"\\r\"+ print_training +\"Episode \" + str(e) +\"/\" + str(nb_episode) \n",
    "        sys.stdout.write(value_print)\n",
    "        sys.stdout.flush()\n",
    "        \n",
    "        # learning start\n",
    "        episode_cost = 0\n",
    "        mg.reset()\n",
    "        \n",
    "        net_load = round(mg.load - mg.pv)\n",
    "        soc = round(mg.battery.soc,1)\n",
    "        s = (net_load, soc)\n",
    "        \n",
    "        a = max_dict(Q[s])[0]  # action with max val \n",
    "        a, is_random = espilon_decreasing_greedy(a, epsilon, nb_action)  # action after epsilon greedy policy\n",
    "        \n",
    "        for i in range (horizon):\n",
    "            \n",
    "            action = actions_agent(mg,a)  # returns control_dict for the action\n",
    "            status = mg.run(action)\n",
    "            r = -mg.get_cost() \n",
    "            episode_cost += mg.get_cost()\n",
    "            net_load = round(mg.load - mg.pv)\n",
    "            soc = round(mg.battery.soc,1)\n",
    "            s_ = (net_load, soc)\n",
    "            a_ = max_dict(Q[s_])[0]\n",
    "            \n",
    "            if i == horizon-1:\n",
    "                Q[s][a] += alpha*(r - Q[s][a])\n",
    "      \n",
    "            else:\n",
    "                target = r + gamma*Q[s_][a_]\n",
    "                Q[s][a] = (1-alpha) * Q[s][a] + alpha * target\n",
    "            a_, is_random = espilon_decreasing_greedy(a_, epsilon, nb_action)  # action after epsilon greedy Policy\n",
    "            s, a = s_, a_\n",
    "       \n",
    "        epsilon = update_epsilon(epsilon)  # decrease epsilon\n",
    "        \n",
    "    return Q"
   ]
  },
  {
   "cell_type": "markdown",
   "metadata": {},
   "source": [
    "## 11. What could go wrong"
   ]
  },
  {
   "cell_type": "markdown",
   "metadata": {},
   "source": [
    "1. According to the above implementation of states, what could go wrong?\n",
    "2. Any possible improvements?"
   ]
  },
  {
   "cell_type": "markdown",
   "metadata": {},
   "source": [
    "We defined the state as the Net load rounded to the nearest decimal and battery percentage rounded to the nearest 0.1\n",
    "\n",
    "Fortunately, our net load only oscillates around -2 and 5 (8 different values), and battery load from 0.2 to 1 (9 different values) therefore having 72 (8 x 9) states. This means we had 288 (72 x 4 actions per state) Q-values in the table. Since our dataset had 8760 data entries (only 90% for training) it was an okay situation. Just imagine what if our net load was around say -100kW to +2000kW. Then we would have 2100+ states. This would create a much bigger Q table, but most of the Q values will never get trained properly. \n",
    "\n",
    "To mitigate such issues we can either increase the discretization interval of the net load.\n",
    "\n",
    "Say what if we had lots of such continuous variables in the state. Then the state-space can get exploded in size.\n",
    "\n",
    "\n",
    "Extra: If you look careful, when we define net_load, we look forward 24*365 hours ahead to select minimum and maximum possible net_load which prevent us from reaching a state we have not included in the Q-table. However this is not possible in the real world because we can't predict future. Therefore, (atleast in this problem) we have to have a mechanism to cope up with the states that are not yet seen during the training period."
   ]
  },
  {
   "cell_type": "markdown",
   "metadata": {},
   "source": [
    "## 12. Deep Q-learning"
   ]
  },
  {
   "cell_type": "markdown",
   "metadata": {},
   "source": [
    "So, how to use Neural networks to achieve a better result of the above Q-learning?"
   ]
  },
  {
   "cell_type": "markdown",
   "metadata": {},
   "source": [
    "<img src=\"files/data/deepQ.png\">\n",
    "<p style=\"text-align: center; font-weight:bold;\">Figure 4: A basic Deep Q-Learning Architecture</p>\n"
   ]
  },
  {
   "cell_type": "markdown",
   "metadata": {},
   "source": [
    "In here we input the state variables and try to predict the Q values for each state. Since this is a supervised task, what can we use as the target since we do not know the Q-values.\n",
    "\n",
    "So in here, the trick is create a copy of the network and keep one as a target and train the other. To converge the Q values faster, we only update the learnt parameters to the target network only in every **K**th iteration\n",
    "<img src=\"files/data/deepQtrain.png\" width=400>\n",
    "<p style=\"text-align: center; font-weight:bold;\">Figure 5: Training process of the Deep Q-Learning Architecture</p>\n"
   ]
  },
  {
   "cell_type": "markdown",
   "metadata": {},
   "source": [
    "There are some libraries that have already implemented such networks. One good example if you are using Keras is [The Keras-RL Library](https://github.com/keras-rl/keras-rl). Here we are only supposed to input our deep network with our open-gym like environment.\n",
    "\n",
    "Due to the time constraints, we do not wish to explain this in detail.\n",
    "\n",
    "Please refer to this [example](https://github.com/keras-rl/keras-rl/blob/master/examples/dqn_cartpole.py) if you are interested. \n",
    "\n",
    "[This](https://github.com/p-christ/Deep-Reinforcement-Learning-Algorithms-with-PyTorch) might be a good starting point if you are using Pytorch for model implementation.\n",
    "\n",
    "If you are using such an external library, please make sure to use the exact dependency (example same TF and Keras version) for convenience."
   ]
  },
  {
   "cell_type": "markdown",
   "metadata": {},
   "source": [
    "In conclusion, It is important to note that Deep Q is really important when the action space is also continuous."
   ]
  },
  {
   "cell_type": "markdown",
   "metadata": {},
   "source": [
    "## References\n",
    "\n",
    "A. T. D. Perera, R. A. Attalage and K. K. C. K. Perera “An optimal design of a grid connected hybrid electrical energy system using evolutionary computation” IEEE-ICIIS 2013\n",
    "\n",
    "G Henri,T Levent, A Halev, R Alami and P Cordier “pymgrid: An Open-Source Python Microgrid Simulator for Applied Artificial Intelligence Research” https://arxiv.org/abs/2011.08004\n",
    "\n",
    "Richard S. Sutton and Andrew G. Barto “Reinforcement Learning: An Introduction” 2nd Edition The MIT Press, 2017\n"
   ]
  }
 ],
 "metadata": {
  "kernelspec": {
   "display_name": "Python 3",
   "language": "python",
   "name": "python3"
  },
  "language_info": {
   "codemirror_mode": {
    "name": "ipython",
    "version": 3
   },
   "file_extension": ".py",
   "mimetype": "text/x-python",
   "name": "python",
   "nbconvert_exporter": "python",
   "pygments_lexer": "ipython3",
   "version": "3.8.2"
  }
 },
 "nbformat": 4,
 "nbformat_minor": 4
}
