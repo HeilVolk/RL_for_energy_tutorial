{
 "cells": [
  {
   "cell_type": "markdown",
   "metadata": {},
   "source": [
    "# Reinforcement Learning in action"
   ]
  },
  {
   "cell_type": "markdown",
   "metadata": {},
   "source": [
    "## Introduction"
   ]
  },
  {
   "cell_type": "markdown",
   "metadata": {},
   "source": [
    "Todo: building photo with PV, battery and grid\n",
    "Basic introduction to the problem\n",
    "\n",
    "This tutorial is based on the simulation engine [Pymgrid](https://github.com/Total-RD/pymgrid) by Total-RD"
   ]
  },
  {
   "cell_type": "markdown",
   "metadata": {},
   "source": [
    "## Install and imports"
   ]
  },
  {
   "cell_type": "code",
   "execution_count": 1,
   "metadata": {},
   "outputs": [],
   "source": [
    "# first we will download the (custom) pymgrid library\n",
    "# !pip install git+https://github.com/Wenuka/pymgrid/"
   ]
  },
  {
   "cell_type": "code",
   "execution_count": 2,
   "metadata": {},
   "outputs": [],
   "source": [
    "import sys\n",
    "from pymgrid import MicrogridGenerator as mg\n",
    "import matplotlib.pyplot as plt\n",
    "import numpy as np\n",
    "import os\n",
    "import time\n",
    "\n",
    "from helper_functions import *"
   ]
  },
  {
   "cell_type": "markdown",
   "metadata": {},
   "source": [
    "## Generate Microgrids\n",
    "a.k.a Building with a Solar panel (PV), inhouse battery pack which is also connected to the grid"
   ]
  },
  {
   "cell_type": "code",
   "execution_count": 3,
   "metadata": {
    "scrolled": true
   },
   "outputs": [],
   "source": [
    "# First we create the environment and the microgrid\n",
    "env = mg.MicrogridGenerator(nb_microgrid=1, path=\"./data/pymgrid_data\")  # we can use a custom file to simulate the load and the PV\n",
    "env.generate_microgrid(verbose=False)\n",
    "mg0 = env.microgrids[0]"
   ]
  },
  {
   "cell_type": "code",
   "execution_count": 4,
   "metadata": {
    "scrolled": true
   },
   "outputs": [
    {
     "data": {
      "text/plain": [
       "{'PV': 1, 'battery': 1, 'genset': 0, 'grid': 1}"
      ]
     },
     "execution_count": 4,
     "metadata": {},
     "output_type": "execute_result"
    }
   ],
   "source": [
    "mg0.architecture  # architecture of the microgrid \n",
    "# note that in this tutorial, we do not consider the situation with a generator (genset)"
   ]
  },
  {
   "cell_type": "code",
   "execution_count": 5,
   "metadata": {},
   "outputs": [
    {
     "data": {
      "text/html": [
       "<div>\n",
       "<style scoped>\n",
       "    .dataframe tbody tr th:only-of-type {\n",
       "        vertical-align: middle;\n",
       "    }\n",
       "\n",
       "    .dataframe tbody tr th {\n",
       "        vertical-align: top;\n",
       "    }\n",
       "\n",
       "    .dataframe thead th {\n",
       "        text-align: right;\n",
       "    }\n",
       "</style>\n",
       "<table border=\"1\" class=\"dataframe\">\n",
       "  <thead>\n",
       "    <tr style=\"text-align: right;\">\n",
       "      <th></th>\n",
       "      <th>load</th>\n",
       "      <th>cost_loss_load</th>\n",
       "      <th>cost_overgeneration</th>\n",
       "      <th>cost_co2</th>\n",
       "      <th>PV_rated_power</th>\n",
       "      <th>battery_soc_0</th>\n",
       "      <th>battery_power_charge</th>\n",
       "      <th>battery_power_discharge</th>\n",
       "      <th>battery_capacity</th>\n",
       "      <th>battery_efficiency</th>\n",
       "      <th>battery_soc_min</th>\n",
       "      <th>battery_soc_max</th>\n",
       "      <th>battery_cost_cycle</th>\n",
       "      <th>grid_weak</th>\n",
       "      <th>grid_power_import</th>\n",
       "      <th>grid_power_export</th>\n",
       "    </tr>\n",
       "  </thead>\n",
       "  <tbody>\n",
       "    <tr>\n",
       "      <th>0</th>\n",
       "      <td>96</td>\n",
       "      <td>10</td>\n",
       "      <td>1</td>\n",
       "      <td>0.1</td>\n",
       "      <td>76.8</td>\n",
       "      <td>0.2</td>\n",
       "      <td>61</td>\n",
       "      <td>61</td>\n",
       "      <td>242</td>\n",
       "      <td>0.9</td>\n",
       "      <td>0.2</td>\n",
       "      <td>1</td>\n",
       "      <td>0.02</td>\n",
       "      <td>0</td>\n",
       "      <td>192</td>\n",
       "      <td>192</td>\n",
       "    </tr>\n",
       "  </tbody>\n",
       "</table>\n",
       "</div>"
      ],
      "text/plain": [
       "   load  cost_loss_load  cost_overgeneration  cost_co2  PV_rated_power  \\\n",
       "0    96              10                    1       0.1            76.8   \n",
       "\n",
       "   battery_soc_0  battery_power_charge  battery_power_discharge  \\\n",
       "0            0.2                    61                       61   \n",
       "\n",
       "   battery_capacity  battery_efficiency  battery_soc_min  battery_soc_max  \\\n",
       "0               242                 0.9              0.2                1   \n",
       "\n",
       "   battery_cost_cycle  grid_weak  grid_power_import  grid_power_export  \n",
       "0                0.02          0                192                192  "
      ]
     },
     "execution_count": 5,
     "metadata": {},
     "output_type": "execute_result"
    }
   ],
   "source": [
    "mg0.parameters  # parameters of the microgrid \n",
    "# TODO: is this important?"
   ]
  },
  {
   "cell_type": "code",
   "execution_count": 21,
   "metadata": {},
   "outputs": [
    {
     "name": "stdout",
     "output_type": "stream",
     "text": [
      "Penetration PV Microgrid 1 : 80.0 %\n"
     ]
    }
   ],
   "source": [
    "print(\"Penetration PV Microgrid 1 :\", round(mg0.parameters[\"PV_rated_power\"][0]/mg0.parameters[\"load\"][0]*100,2), \"%\")\n",
    "# TODO: is this important?"
   ]
  },
  {
   "cell_type": "markdown",
   "metadata": {},
   "source": [
    "## Defining the State "
   ]
  },
  {
   "cell_type": "markdown",
   "metadata": {},
   "source": [
    "\n",
    "As we already learned, the Q table has the maximum expected future reward that the agent will get if it takes that action at that state. Therefore it is nothing but an table with States as rows and Actions as columns.\n",
    "\n",
    "<img src=\"files/data/qtable.png\" width=350>\n",
    "\n",
    "So, before starting the learning process, we should concretely define the states and the actions. \n",
    "\n",
    "First, we will start with defining the state. To help the process, we will first plot few graphs for the next 24 time steps (hours).\n",
    "\n",
    "(extra note: forecast function forcast next 24 steps by default you can change it to N steps by **mg0.set_horizon(N)** )"
   ]
  },
  {
   "cell_type": "code",
   "execution_count": 8,
   "metadata": {},
   "outputs": [
    {
     "data": {
      "text/plain": [
       "<matplotlib.legend.Legend at 0x7fc10579ad00>"
      ]
     },
     "execution_count": 8,
     "metadata": {},
     "output_type": "execute_result"
    },
    {
     "data": {
      "image/png": "[encoded data removed]",
      "text/plain": [
       "<Figure size 432x288 with 1 Axes>"
      ]
     },
     "metadata": {
      "needs_background": "light"
     },
     "output_type": "display_data"
    }
   ],
   "source": [
    "plt.plot(mg0.forecast_pv(), label=\"PV\")\n",
    "plt.plot(mg0.forecast_load(), label=\"load\")\n",
    "plt.legend()\n",
    "# as we can see PV and Load is varying with the  time"
   ]
  },
  {
   "cell_type": "code",
   "execution_count": 6,
   "metadata": {},
   "outputs": [
    {
     "data": {
      "text/plain": [
       "[<matplotlib.lines.Line2D at 0x7fc10583f7f0>]"
      ]
     },
     "execution_count": 6,
     "metadata": {},
     "output_type": "execute_result"
    },
    {
     "data": {
      "image/png": "[encoded data removed]",
      "text/plain": [
       "<Figure size 432x288 with 1 Axes>"
      ]
     },
     "metadata": {
      "needs_background": "light"
     },
     "output_type": "display_data"
    }
   ],
   "source": [
    "plt.plot(mg0.forecast_grid_status())  \n",
    "# Here we observe that the microgrid is always connected to the utility grid (no change)"
   ]
  },
  {
   "cell_type": "markdown",
   "metadata": {},
   "source": [
    "As we know, environment in this is defined by four factors, namely,\n",
    "* Load (kW)\n",
    "* PV (kW)\n",
    "* Battery (cahrge percentage)\n",
    "* Grid connectivity\n",
    "\n",
    "<img src=\"files/data/environment.png\" width=400>\n",
    "\n",
    "So, we can simple define state by **(load, PV, Battery %, Grid connectivity)**\n",
    "\n",
    "But do we need all these variables to define the state? What variables/factors you can eliminate? Given our problem statement, what variables you can combine?\n",
    "\n",
    "**Discuss!**"
   ]
  },
  {
   "cell_type": "markdown",
   "metadata": {},
   "source": [
    "Answer:\n",
    "* We can remove grid connectivity in here as it is always 1\n",
    "* We can combne Load and PV as it is always the Net_load (load-PV) is needed to be considered.\n",
    "\n",
    "Therefore the state can be defined as ( Net_load, battery %)\n",
    "\n",
    "Extra Note: we can also define the state as (load, PV, battery %) and continue. Then the only problem will be the inefficient learning due to the (relatively) un-necessarily bigger state space."
   ]
  },
  {
   "cell_type": "code",
   "execution_count": 9,
   "metadata": {},
   "outputs": [
    {
     "data": {
      "text/plain": [
       "<matplotlib.legend.Legend at 0x7fc10576afd0>"
      ]
     },
     "execution_count": 9,
     "metadata": {},
     "output_type": "execute_result"
    },
    {
     "data": {
      "image/png": "[encoded data removed]",
      "text/plain": [
       "<Figure size 432x288 with 1 Axes>"
      ]
     },
     "metadata": {
      "needs_background": "light"
     },
     "output_type": "display_data"
    }
   ],
   "source": [
    "plt.plot(mg0.forecast_load()-mg0.forecast_pv(), label=\"Net load\")\n",
    "plt.legend()"
   ]
  },
  {
   "cell_type": "markdown",
   "metadata": {},
   "source": [
    "Another problem we face here is how to create Q-table when the variables in the state definition are continuous. \n",
    "\n",
    "For this, we **discretize the variable**. For example in this tutorial, we round the kW to the nearest deciamal and battery percentage to the nearest 0.1"
   ]
  },
  {
   "cell_type": "code",
   "execution_count": 22,
   "metadata": {},
   "outputs": [],
   "source": [
    "# For a given instences, you can see the environment values like this\n",
    "current_load = mg0.load\n",
    "current_pv = mg0.pv\n",
    "battery_capacity = mg0.battery.capacity"
   ]
  },
  {
   "cell_type": "markdown",
   "metadata": {},
   "source": [
    "## Designing the Actions"
   ]
  },
  {
   "cell_type": "markdown",
   "metadata": {},
   "source": [
    "Since we now have defined the states, let's try to define the different possible actions that our agent will have to take in the microgrid environment. \n",
    "\n",
    "These are the four actions that we are suggesting\n",
    "* action 0: battery_charge\n",
    "* action 1: battery_discharge\n",
    "* action 2: grid_import\n",
    "* action 3: grid_export\n",
    "\n"
   ]
  },
  {
   "cell_type": "markdown",
   "metadata": {},
   "source": [
    "However, our simulation engine does not know what are this actions are.\n",
    "\n",
    "For this, we have to map these actions to the simulation engines control signals"
   ]
  },
  {
   "cell_type": "code",
   "execution_count": 12,
   "metadata": {},
   "outputs": [],
   "source": [
    "def actions_agent(mg0, action):\n",
    "    pv = mg0.pv\n",
    "    load = mg0.load\n",
    "    net_load = load - pv\n",
    "    capa_to_charge = mg0.battery.capa_to_charge  # remaining capacity to charge of the battery\n",
    "    p_charge_max = mg0.battery.p_charge_max  # charge speed of the battery\n",
    "    p_charge = max(0,min(-net_load, capa_to_charge, p_charge_max))  # charge value for the time \n",
    "    \n",
    "    capa_to_discharge = mg0.battery.capa_to_discharge  # capacity of discharge\n",
    "    p_discharge_max = mg0.battery.p_discharge_max  # per hour discharge rate\n",
    "    p_discharge = max(0,min(net_load, capa_to_discharge, p_discharge_max))  # discharge value for the time \n",
    "          \n",
    "    if action == 0:       \n",
    "        if p_charge > 0:  # if charge is possible\n",
    "            control_dict = {'pv_consummed': min(pv,load),\n",
    "                            'battery_charge': p_charge,\n",
    "                            'battery_discharge': 0,\n",
    "                            'grid_import': 0,\n",
    "                            'grid_export':max(0,pv - min(pv,load) - p_charge)\n",
    "                           }\n",
    "        else:  # if either battery is full or R<D (p_charge==0 coz it cant be -) => why this else?? todo\n",
    "            control_dict = {'pv_consummed': min(pv,load),\n",
    "                            'battery_charge': net_load,  # possible - charge ??\n",
    "                            'battery_discharge': 0,\n",
    "                            'grid_import': 0,\n",
    "                            'grid_export':max(0,pv - min(pv,load) - p_charge)\n",
    "                           }            \n",
    "    elif action ==1:    \n",
    "        if p_discharge > 0:\n",
    "            control_dict = {'pv_consummed': min(pv,load),\n",
    "                            'battery_charge': 0,\n",
    "                            'battery_discharge': p_discharge,\n",
    "                            'grid_import': max(0,load - min(pv,load) - p_discharge),\n",
    "                            'grid_export':0\n",
    "                           }\n",
    "        else:\n",
    "            control_dict = {'pv_consummed': min(pv,load),\n",
    "                            'battery_charge': 0,\n",
    "                            'battery_discharge': net_load,\n",
    "                            'grid_import': max(0,load - min(pv,load) - p_discharge),\n",
    "                            'grid_export':0\n",
    "                           }\n",
    "    elif action ==2:\n",
    "        control_dict = {'pv_consummed': min(pv,load),\n",
    "                        'battery_charge': 0,\n",
    "                        'battery_discharge': 0,\n",
    "                        'grid_import': abs(net_load),\n",
    "                        'grid_export':0\n",
    "                       }\n",
    "    elif action == 3:\n",
    "        control_dict = {'pv_consummed': min(pv,load),\n",
    "                        'battery_charge': 0,\n",
    "                        'battery_discharge': 0,\n",
    "                        'grid_import': 0,\n",
    "                        'grid_export':abs(net_load)\n",
    "                       }\n",
    "    \n",
    "    return control_dict"
   ]
  },
  {
   "cell_type": "markdown",
   "metadata": {},
   "source": [
    "## Initializing the Q table"
   ]
  },
  {
   "cell_type": "code",
   "execution_count": 23,
   "metadata": {},
   "outputs": [],
   "source": [
    "def init_qtable(mg0, nb_action):\n",
    "    mg0.set_horizon(24*365)  # to forcast to have correct max and min, we look at the full range\n",
    "    net_load = mg0.forecast_load() - mg0.forecast_pv()\n",
    "    mg0.set_horizon(24)\n",
    "\n",
    "    state = []\n",
    "    Q = {}\n",
    "\n",
    "    for i in range(int(net_load.min()-1),int(net_load.max())):\n",
    "        \n",
    "        for j in np.arange(round(mg0.battery.soc_min,1),round(mg0.battery.soc_max+0.1,1),0.1):\n",
    "            \n",
    "            j = round(j,1)\n",
    "            state.append((i,j)) \n",
    "    \n",
    "    #Initialize Q(s,a) at zero\n",
    "    for s in state:\n",
    "\n",
    "        Q[s] = {}\n",
    "\n",
    "        for a in range(nb_action):\n",
    "\n",
    "            Q[s][a] = 0\n",
    "    return Q"
   ]
  },
  {
   "cell_type": "markdown",
   "metadata": {},
   "source": [
    "If interested, please take a look in to the helper_functions.py as well. There, we have defined the exploration strategy where we have selected the **epsilon greedy decreasing strategy**."
   ]
  },
  {
   "cell_type": "markdown",
   "metadata": {},
   "source": [
    "## SARSA algorithm"
   ]
  },
  {
   "cell_type": "code",
   "execution_count": 14,
   "metadata": {
    "scrolled": true
   },
   "outputs": [],
   "source": [
    "def training_Q_Learning(mg,horizon):\n",
    "    \n",
    "    nb_action = 4\n",
    "    Q = init_qtable(mg,nb_action)  # initialise Q-table\n",
    "    nb_state = len(Q)\n",
    "    nb_episode = 100\n",
    "    alpha = 0.1\n",
    "    epsilon = 0.99\n",
    "    gamma = 0.99\n",
    "    \n",
    "    record_cost = []\n",
    "    t0 = time.time()\n",
    "    t = t0\n",
    "    print_training = \"Training Progressing .   \"\n",
    "    print_welcome(0)\n",
    "    print(\"\\n\")\n",
    "    for e in range(nb_episode+1):\n",
    "        \n",
    "        # print status\n",
    "        if e == 0:\n",
    "            value_print=\"\\rEpisode \" + str(e) +\"/\" + str(nb_episode)\n",
    "            sys.stdout.write(value_print)\n",
    "            sys.stdout.flush()\n",
    "        else:\n",
    "            now = time.time()\n",
    "            if e == 1 or e == 50 or e == 100 or e == 200 or e == 300 or e == 400  or e == 450  or e == 485 or e == nb_episode-5:\n",
    "                diff_time_t = now - t \n",
    "                total_time = (nb_episode+1) * diff_time_t\n",
    "            now = time.time()\n",
    "            diff_time = now - t0\n",
    "            time_remaining = total_time - diff_time\n",
    "            t = time.time()\n",
    "        \n",
    "        if e % 10 == 0:\n",
    "            if print_training == \"Training Progressing .   \":\n",
    "                print_training = \"Training Progressing ..  \"\n",
    "            elif print_training == \"Training Progressing ..  \":\n",
    "                print_training = \"Training Progressing ... \"\n",
    "            else:\n",
    "                print_training = \"Training Progressing .   \"\n",
    "\n",
    "        value_print=\"\\r\"+ print_training +\"Episode \" + str(e) +\"/\" + str(nb_episode) \n",
    "        sys.stdout.write(value_print)\n",
    "        sys.stdout.flush()\n",
    "        \n",
    "        # learning algo start\n",
    "        episode_cost = 0\n",
    "        mg.reset()\n",
    "        \n",
    "        net_load = round(mg.load - mg.pv)\n",
    "        soc = round(mg.battery.soc,1)\n",
    "        s = (net_load, soc)\n",
    "        \n",
    "        a = max_dict(Q[s])[0]  # action with max val \n",
    "        a,randomm = espilon_decreasing_greedy(a, epsilon, nb_action)  # action after epsilon greedy\n",
    "        \n",
    "        for i in range (horizon):\n",
    "            \n",
    "            action = actions_agent(mg,a)  # returns control_dict for the action\n",
    "            status = mg.run(action)\n",
    "            r = -mg.get_cost() \n",
    "            episode_cost += mg.get_cost()\n",
    "            net_load = round(mg.load - mg.pv)\n",
    "            soc = round(mg.battery.soc,1)\n",
    "            s_ = (net_load, soc)\n",
    "            a_ = max_dict(Q[s_])[0]\n",
    "            \n",
    "            if i == horizon-1:\n",
    "                Q[s][a] += alpha*(r - Q[s][a])\n",
    "      \n",
    "            else:\n",
    "                old_Q = Q[s][a]\n",
    "                target = r + gamma*Q[s_][a_]\n",
    "                td_error = target - Q[s][a]\n",
    "                Q[s][a] = (1-alpha) * Q[s][a] + alpha * target\n",
    "                \n",
    "            s, a = s_, a_\n",
    "       \n",
    "        epsilon = update_epsilon(epsilon)  # decrease epsilon\n",
    "        \n",
    "    return Q"
   ]
  },
  {
   "cell_type": "code",
   "execution_count": 15,
   "metadata": {},
   "outputs": [],
   "source": [
    "def testing_Q_Learning(mg, Q,horizon):\n",
    "    \n",
    "    mg.reset(testing=True)\n",
    "    net_load = round(mg.load - mg.pv)\n",
    "    soc = round(mg.battery.soc,1)\n",
    "    s = (net_load, soc)\n",
    "    a = max_dict(Q[s])[0]\n",
    "    total_cost = 0\n",
    "    print_welcome(1)\n",
    "    for i in range (horizon):\n",
    "\n",
    "        action_name = change_name_action(a)\n",
    "        action = actions_agent(mg, a)\n",
    "        status = mg.run(action)\n",
    "        cost = mg.get_cost()\n",
    "        total_cost += cost\n",
    "        if i < 10:\n",
    "            print(i,\" -\",(int(net_load),soc),action_name, round(total_cost,1), \"€\")\n",
    "        else:\n",
    "            print(i,\"-\",(int(net_load),soc),action_name, round(total_cost,1), \"€\")\n",
    "        net_load = round(mg.load - mg.pv)\n",
    "        soc = round(mg.battery.soc,1)\n",
    "        s_ = (net_load, soc)\n",
    "        a_ = max_dict(Q[s_])[0]\n",
    "\n",
    "        s, a = s_, a_"
   ]
  },
  {
   "cell_type": "code",
   "execution_count": 16,
   "metadata": {},
   "outputs": [],
   "source": [
    "mg0.train_test_split(train_size=0.8)"
   ]
  },
  {
   "cell_type": "code",
   "execution_count": 17,
   "metadata": {},
   "outputs": [
    {
     "name": "stdout",
     "output_type": "stream",
     "text": [
      "------------------------------------\n",
      "|        WELCOME TO PYMGRID        |\n",
      "------------------------------------\n",
      "\n",
      "\n",
      "Training Progressing ... Episode 100/100"
     ]
    }
   ],
   "source": [
    "Q1 = training_Q_Learning(mg0,48)"
   ]
  },
  {
   "cell_type": "code",
   "execution_count": 18,
   "metadata": {},
   "outputs": [
    {
     "name": "stdout",
     "output_type": "stream",
     "text": [
      "t -     STATE  -  ACTION - COST\n",
      "================================\n",
      "0  - (20, 0.2) import 4.9 €\n",
      "1  - (20, 0.2) import 9.9 €\n",
      "2  - (20, 0.2) import 15.0 €\n",
      "3  - (21, 0.2) discharge 20.2 €\n",
      "4  - (31, 0.2) discharge 28.1 €\n",
      "5  - (53, 0.2) discharge 41.3 €\n",
      "6  - (59, 0.2) charge 1230.1 €\n",
      "7  - (46, 0.4) charge 2157.6 €\n",
      "8  - (23, 0.6) discharge 2158.0 €\n",
      "9  - (22, 0.5) discharge 2158.5 €\n",
      "10 - (16, 0.4) charge 2485.5 €\n",
      "11 - (16, 0.4) charge 2802.2 €\n",
      "12 - (8, 0.5) charge 2953.6 €\n",
      "13 - (9, 0.5) charge 3126.7 €\n",
      "14 - (17, 0.6) discharge 3127.0 €\n",
      "15 - (37, 0.5) charge 3876.5 €\n",
      "16 - (49, 0.6) charge 4850.1 €\n",
      "17 - (63, 0.8) discharge 4852.5 €\n",
      "18 - (53, 0.5) import 4868.7 €\n",
      "19 - (53, 0.5) import 4884.9 €\n",
      "20 - (52, 0.5) discharge 4885.9 €\n",
      "21 - (52, 0.3) import 4898.4 €\n",
      "22 - (53, 0.3) import 4911.2 €\n",
      "23 - (31, 0.3) import 4918.6 €\n",
      "24 - (20, 0.3) import 4923.6 €\n",
      "25 - (20, 0.3) import 4928.7 €\n",
      "26 - (20, 0.3) import 4933.8 €\n",
      "27 - (20, 0.3) import 4938.9 €\n",
      "28 - (31, 0.3) import 4946.7 €\n",
      "29 - (53, 0.3) import 4960.0 €\n",
      "30 - (59, 0.3) charge 6148.8 €\n",
      "31 - (47, 0.5) charge 7084.8 €\n",
      "32 - (25, 0.7) discharge 7085.3 €\n",
      "33 - (25, 0.6) discharge 7085.8 €\n",
      "34 - (19, 0.5) charge 7458.8 €\n",
      "35 - (16, 0.5) charge 7771.8 €\n",
      "36 - (5, 0.6) charge 7870.6 €\n",
      "37 - (13, 0.6) charge 8123.0 €\n",
      "38 - (17, 0.6) discharge 8123.3 €\n",
      "39 - (37, 0.6) charge 8872.4 €\n",
      "40 - (46, 0.7) charge 9799.1 €\n",
      "41 - (61, 0.9) charge 10741.1 €\n",
      "42 - (53, 1.0) discharge 10742.2 €\n",
      "43 - (53, 0.8) export 11796.9 €\n",
      "44 - (53, 0.8) export 12848.7 €\n",
      "45 - (52, 0.8) discharge 12849.8 €\n",
      "46 - (53, 0.5) import 12862.8 €\n",
      "47 - (31, 0.5) discharge 12863.5 €\n"
     ]
    }
   ],
   "source": [
    "testing_Q_Learning(mg0,Q1, 48)"
   ]
  },
  {
   "cell_type": "markdown",
   "metadata": {},
   "source": [
    "## Q-Learning"
   ]
  },
  {
   "cell_type": "markdown",
   "metadata": {},
   "source": [
    "What changes to do in the SARSA to make it Q-learning?"
   ]
  },
  {
   "cell_type": "code",
   "execution_count": null,
   "metadata": {},
   "outputs": [],
   "source": []
  },
  {
   "cell_type": "markdown",
   "metadata": {},
   "source": [
    "## Discussion"
   ]
  },
  {
   "cell_type": "markdown",
   "metadata": {},
   "source": [
    "1. possible improvements\n",
    "2. what could go wrong"
   ]
  },
  {
   "cell_type": "code",
   "execution_count": null,
   "metadata": {},
   "outputs": [],
   "source": []
  }
 ],
 "metadata": {
  "kernelspec": {
   "display_name": "Python 3",
   "language": "python",
   "name": "python3"
  },
  "language_info": {
   "codemirror_mode": {
    "name": "ipython",
    "version": 3
   },
   "file_extension": ".py",
   "mimetype": "text/x-python",
   "name": "python",
   "nbconvert_exporter": "python",
   "pygments_lexer": "ipython3",
   "version": "3.8.2"
  }
 },
 "nbformat": 4,
 "nbformat_minor": 4
}
